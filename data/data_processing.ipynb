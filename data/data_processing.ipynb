{
 "cells": [
  {
   "cell_type": "code",
   "execution_count": 9,
   "id": "916bdded",
   "metadata": {},
   "outputs": [],
   "source": [
    "import pandas as pd\n",
    "from rdkit import Chem\n",
    "from rdkit.Chem import rdMolDescriptors"
   ]
  },
  {
   "cell_type": "code",
   "execution_count": 2,
   "id": "7478aeaa",
   "metadata": {},
   "outputs": [],
   "source": [
    "data = pd.read_csv('GABAA.csv',encoding = 'gb2312')[0:488]"
   ]
  },
  {
   "cell_type": "markdown",
   "id": "706faebb",
   "metadata": {},
   "source": [
    "# Delete SMILES with metal elements"
   ]
  },
  {
   "cell_type": "code",
   "execution_count": 4,
   "id": "c24c52e3",
   "metadata": {},
   "outputs": [],
   "source": [
    "# Define a function to check if Smiles contains metal elements\n",
    "def contains_metal(smiles):\n",
    "    mol = Chem.MolFromSmiles(smiles)\n",
    "    if mol:\n",
    "        for atom in mol.GetAtoms():\n",
    "            if atom.GetAtomicNum() in [3, 11, 13, 19, 20, 25, 26, 29, 30, 42, 47, 50, 73, 74, 78, 79, 80, 82, 83]:\n",
    "                return True\n",
    "    return False"
   ]
  },
  {
   "cell_type": "code",
   "execution_count": 6,
   "id": "30d765cb",
   "metadata": {},
   "outputs": [],
   "source": [
    "# Filter SMILES items that contain metallic elements\n",
    "filtered_df = data[~data['smiles'].apply(contains_metal)]"
   ]
  },
  {
   "cell_type": "markdown",
   "id": "9a1511bd",
   "metadata": {},
   "source": [
    "# Compounds with molecular weights less than 30 and greater than 600 are deleted"
   ]
  },
  {
   "cell_type": "code",
   "execution_count": 10,
   "id": "30d11551",
   "metadata": {},
   "outputs": [],
   "source": [
    "# Additive molecular weight series\n",
    "filtered_df['molecular_weight'] = filtered_df['smiles'].apply(lambda x: rdMolDescriptors.CalcExactMolWt(Chem.MolFromSmiles(x)) if Chem.MolFromSmiles(x) else None)"
   ]
  },
  {
   "cell_type": "code",
   "execution_count": 27,
   "id": "6d1b71aa",
   "metadata": {},
   "outputs": [],
   "source": [
    "# Filter items with molecular weights between 20 and 1500\n",
    "filtered_df_2 = filtered_df[(filtered_df['molecular_weight'] >= 40) & (filtered_df['molecular_weight'] <= 600)]"
   ]
  },
  {
   "cell_type": "code",
   "execution_count": 16,
   "id": "489a8eb5",
   "metadata": {},
   "outputs": [],
   "source": [
    "filtered_df_2.to_csv('GABAA.csv')"
   ]
  },
  {
   "cell_type": "code",
   "execution_count": null,
   "id": "30575cac",
   "metadata": {},
   "outputs": [],
   "source": []
  }
 ],
 "metadata": {
  "kernelspec": {
   "display_name": "PI3K",
   "language": "python",
   "name": "pi3k"
  },
  "language_info": {
   "codemirror_mode": {
    "name": "ipython",
    "version": 3
   },
   "file_extension": ".py",
   "mimetype": "text/x-python",
   "name": "python",
   "nbconvert_exporter": "python",
   "pygments_lexer": "ipython3",
   "version": "3.7.11"
  }
 },
 "nbformat": 4,
 "nbformat_minor": 5
}
