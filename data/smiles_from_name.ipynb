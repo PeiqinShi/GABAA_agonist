{
 "cells": [
  {
   "cell_type": "code",
   "execution_count": 1,
   "id": "93ea7169",
   "metadata": {},
   "outputs": [],
   "source": [
    "import pandas as pd\n",
    "import pubchempy as pcp\n",
    "\n",
    "def get_canonical_smiles(compound_name):\n",
    "    try:\n",
    "        results = pcp.get_compounds(compound_name, 'name')\n",
    "        if results:\n",
    "            compound = results[0]\n",
    "            print(compound)\n",
    "            return compound.canonical_smiles\n",
    "        else:\n",
    "            return 'Null'\n",
    "    except Exception as e:\n",
    "        print('Error:', e)\n",
    "        return 'Null'"
   ]
  },
  {
   "cell_type": "code",
   "execution_count": 2,
   "id": "e0fb3f74",
   "metadata": {},
   "outputs": [],
   "source": [
    "plant_content = pd.read_csv('compounds.csv',encoding='gb18030')"
   ]
  },
  {
   "cell_type": "code",
   "execution_count": 3,
   "id": "8bc05d1b",
   "metadata": {},
   "outputs": [],
   "source": [
    "compound_names = plant_content['name']"
   ]
  },
  {
   "cell_type": "code",
   "execution_count": 4,
   "id": "583e0f20",
   "metadata": {},
   "outputs": [
    {
     "data": {
      "text/plain": [
       "0                                 9,17-Octadecadienal,(Z)\n",
       "1                                    pentadecane,8-heptyl\n",
       "2                   oxacyclotetradecane-2,11-dione-methyl\n",
       "3               2，6，10-Dodecatrien-1-ol,3,7,11-trimethyl-\n",
       "4       1，4-methano-1H-indene,octahydro-1,7a-dimethyl-...\n",
       "                              ...                        \n",
       "3563               6,6-Dimethylbicyclo[3.1.1]heptan-2-one\n",
       "3564    4a, trans-4b,cis-8a, trans-10a-Perhydro-cis-2,...\n",
       "3565            3,5,5-Trimethylbicyclo[2.2.1]heptan-2-one\n",
       "3566                                         Pinocamphone\n",
       "3567                                     cis-Pinonic acid\n",
       "Name: name, Length: 3568, dtype: object"
      ]
     },
     "execution_count": 4,
     "metadata": {},
     "output_type": "execute_result"
    }
   ],
   "source": [
    "compound_names"
   ]
  },
  {
   "cell_type": "code",
   "execution_count": null,
   "id": "8b06df15",
   "metadata": {
    "scrolled": true
   },
   "outputs": [],
   "source": [
    "# Get Canonical SMILES and save them to the plant list \n",
    "plant = []\n",
    "for name in compound_names:\n",
    "    canonical_smiles = get_canonical_smiles(name)\n",
    "    plant.append((name, canonical_smiles))\n",
    "    print(f'{name}:{canonical_smiles}')"
   ]
  },
  {
   "cell_type": "code",
   "execution_count": 22,
   "id": "eea48e5f",
   "metadata": {},
   "outputs": [],
   "source": [
    "df = pd.DataFrame(plant, columns=['Name', 'SMILES'])"
   ]
  },
  {
   "cell_type": "code",
   "execution_count": 23,
   "id": "d79cd62e",
   "metadata": {},
   "outputs": [
    {
     "data": {
      "text/html": [
       "<div>\n",
       "<style scoped>\n",
       "    .dataframe tbody tr th:only-of-type {\n",
       "        vertical-align: middle;\n",
       "    }\n",
       "\n",
       "    .dataframe tbody tr th {\n",
       "        vertical-align: top;\n",
       "    }\n",
       "\n",
       "    .dataframe thead th {\n",
       "        text-align: right;\n",
       "    }\n",
       "</style>\n",
       "<table border=\"1\" class=\"dataframe\">\n",
       "  <thead>\n",
       "    <tr style=\"text-align: right;\">\n",
       "      <th></th>\n",
       "      <th>Name</th>\n",
       "      <th>SMILES</th>\n",
       "    </tr>\n",
       "  </thead>\n",
       "  <tbody>\n",
       "    <tr>\n",
       "      <th>0</th>\n",
       "      <td>6,10,14-Trimethylpentadecan-2-one</td>\n",
       "      <td>CC(C)CCCC(C)CCCC(C)CCCC(=O)C</td>\n",
       "    </tr>\n",
       "    <tr>\n",
       "      <th>1</th>\n",
       "      <td>Diacetone alcohol</td>\n",
       "      <td>CC(=O)CC(C)(C)O</td>\n",
       "    </tr>\n",
       "    <tr>\n",
       "      <th>2</th>\n",
       "      <td>1-Pentanol</td>\n",
       "      <td>CCCCCO</td>\n",
       "    </tr>\n",
       "    <tr>\n",
       "      <th>3</th>\n",
       "      <td>Tetracosane</td>\n",
       "      <td>CCCCCCCCCCCCCCCCCCCCCCCC</td>\n",
       "    </tr>\n",
       "    <tr>\n",
       "      <th>4</th>\n",
       "      <td>Tricosane</td>\n",
       "      <td>CCCCCCCCCCCCCCCCCCCCCCC</td>\n",
       "    </tr>\n",
       "    <tr>\n",
       "      <th>...</th>\n",
       "      <td>...</td>\n",
       "      <td>...</td>\n",
       "    </tr>\n",
       "    <tr>\n",
       "      <th>4491</th>\n",
       "      <td>6,6-Dimethylbicyclo[3.1.1]heptan-2-one</td>\n",
       "      <td>CC1(C2CCC(=O)C1C2)C</td>\n",
       "    </tr>\n",
       "    <tr>\n",
       "      <th>4492</th>\n",
       "      <td>4a, trans-4b,cis-8a, trans-10a-Perhydro-cis-2,...</td>\n",
       "      <td>Null</td>\n",
       "    </tr>\n",
       "    <tr>\n",
       "      <th>4493</th>\n",
       "      <td>3,5,5-Trimethylbicyclo[2.2.1]heptan-2-one</td>\n",
       "      <td>CC1C2CC(C1=O)CC2(C)C</td>\n",
       "    </tr>\n",
       "    <tr>\n",
       "      <th>4494</th>\n",
       "      <td>Pinocamphone</td>\n",
       "      <td>CC1C2CC(C2(C)C)CC1=O</td>\n",
       "    </tr>\n",
       "    <tr>\n",
       "      <th>4495</th>\n",
       "      <td>cis-Pinonic acid</td>\n",
       "      <td>CC(=O)C1CC(C1(C)C)CC(=O)O</td>\n",
       "    </tr>\n",
       "  </tbody>\n",
       "</table>\n",
       "<p>4496 rows × 2 columns</p>\n",
       "</div>"
      ],
      "text/plain": [
       "                                                   Name  \\\n",
       "0                     6,10,14-Trimethylpentadecan-2-one   \n",
       "1                                     Diacetone alcohol   \n",
       "2                                            1-Pentanol   \n",
       "3                                           Tetracosane   \n",
       "4                                             Tricosane   \n",
       "...                                                 ...   \n",
       "4491             6,6-Dimethylbicyclo[3.1.1]heptan-2-one   \n",
       "4492  4a, trans-4b,cis-8a, trans-10a-Perhydro-cis-2,...   \n",
       "4493          3,5,5-Trimethylbicyclo[2.2.1]heptan-2-one   \n",
       "4494                                       Pinocamphone   \n",
       "4495                                   cis-Pinonic acid   \n",
       "\n",
       "                            SMILES  \n",
       "0     CC(C)CCCC(C)CCCC(C)CCCC(=O)C  \n",
       "1                  CC(=O)CC(C)(C)O  \n",
       "2                           CCCCCO  \n",
       "3         CCCCCCCCCCCCCCCCCCCCCCCC  \n",
       "4          CCCCCCCCCCCCCCCCCCCCCCC  \n",
       "...                            ...  \n",
       "4491           CC1(C2CCC(=O)C1C2)C  \n",
       "4492                          Null  \n",
       "4493          CC1C2CC(C1=O)CC2(C)C  \n",
       "4494          CC1C2CC(C2(C)C)CC1=O  \n",
       "4495     CC(=O)C1CC(C1(C)C)CC(=O)O  \n",
       "\n",
       "[4496 rows x 2 columns]"
      ]
     },
     "execution_count": 23,
     "metadata": {},
     "output_type": "execute_result"
    }
   ],
   "source": [
    "df"
   ]
  },
  {
   "cell_type": "code",
   "execution_count": 24,
   "id": "15de5822",
   "metadata": {},
   "outputs": [],
   "source": [
    "df.to_csv('compounds.csv', index=False)"
   ]
  }
 ],
 "metadata": {
  "kernelspec": {
   "display_name": "PI3K",
   "language": "python",
   "name": "pi3k"
  },
  "language_info": {
   "codemirror_mode": {
    "name": "ipython",
    "version": 3
   },
   "file_extension": ".py",
   "mimetype": "text/x-python",
   "name": "python",
   "nbconvert_exporter": "python",
   "pygments_lexer": "ipython3",
   "version": "3.7.11"
  }
 },
 "nbformat": 4,
 "nbformat_minor": 5
}
