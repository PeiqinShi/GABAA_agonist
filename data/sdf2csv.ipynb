{
 "cells": [
  {
   "cell_type": "code",
   "execution_count": 1,
   "id": "9edc7052",
   "metadata": {},
   "outputs": [],
   "source": [
    "from rdkit import Chem\n",
    "from rdkit.Chem import PandasTools\n",
    "import pandas as pd"
   ]
  },
  {
   "cell_type": "code",
   "execution_count": 2,
   "id": "eb1367ec",
   "metadata": {},
   "outputs": [],
   "source": [
    "def sdf_to_csv(sdf_file, csv_file):\n",
    "    # read the SDF file\n",
    "    suppl = Chem.SDMolSupplier(sdf_file)\n",
    "    mols = [x for x in suppl if x is not None]\n",
    "\n",
    "    # create a DataFrame\n",
    "    df = PandasTools.LoadSDF(sdf_file)\n",
    "    \n",
    "    # extract SMILES\n",
    "    df['SMILES'] = [Chem.MolToSmiles(mol) for mol in mols]\n",
    "    \n",
    "    # save CSV file\n",
    "    df.to_csv(csv_file, index=False)"
   ]
  },
  {
   "cell_type": "code",
   "execution_count": 3,
   "id": "7e4f49a6",
   "metadata": {},
   "outputs": [],
   "source": [
    "sdf_to_csv('OTAVA_GABAA_Receptor_Antagonist_Library.sdf', 'GABAA_Receptor_Antagonist.csv')"
   ]
  },
  {
   "cell_type": "code",
   "execution_count": null,
   "id": "653505b0",
   "metadata": {},
   "outputs": [],
   "source": []
  }
 ],
 "metadata": {
  "kernelspec": {
   "display_name": "PI3K",
   "language": "python",
   "name": "pi3k"
  },
  "language_info": {
   "codemirror_mode": {
    "name": "ipython",
    "version": 3
   },
   "file_extension": ".py",
   "mimetype": "text/x-python",
   "name": "python",
   "nbconvert_exporter": "python",
   "pygments_lexer": "ipython3",
   "version": "3.7.11"
  }
 },
 "nbformat": 4,
 "nbformat_minor": 5
}
