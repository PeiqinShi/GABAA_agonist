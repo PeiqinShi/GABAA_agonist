{
 "cells": [
  {
   "cell_type": "code",
   "execution_count": 3,
   "id": "2425f9e7",
   "metadata": {},
   "outputs": [],
   "source": [
    "import numpy as np\n",
    "import pandas as pd\n",
    "\n",
    "import deepchem as dc\n",
    "\n",
    "import sklearn\n",
    "from sklearn.svm import SVC\n",
    "from sklearn.ensemble import RandomForestClassifier\n",
    "#from mlxtend.classifier import StackingClassifier\n",
    "\n",
    "from sklearn.model_selection import GridSearchCV\n",
    "from sklearn.model_selection import KFold\n",
    "\n",
    "from sklearn import metrics\n",
    "from sklearn.metrics import make_scorer\n",
    "from sklearn.metrics import confusion_matrix\n",
    "from sklearn.metrics import roc_auc_score\n",
    "from sklearn.metrics import accuracy_score\n",
    "from sklearn.metrics import precision_score\n",
    "from sklearn.metrics import recall_score\n",
    "\n",
    "from functools import reduce\n",
    "\n",
    "import warnings\n",
    "warnings.filterwarnings('ignore')\n",
    "\n",
    "import pickle\n",
    "from sklearn.feature_selection import VarianceThreshold\n",
    "import matplotlib.pyplot as plt\n",
    "import seaborn as sns"
   ]
  },
  {
   "cell_type": "markdown",
   "id": "1065acdf",
   "metadata": {},
   "source": [
    "# Load models"
   ]
  },
  {
   "cell_type": "code",
   "execution_count": 4,
   "id": "618e7af9",
   "metadata": {},
   "outputs": [],
   "source": [
    "with open('rf_maccs_model.pkl', 'rb') as f:\n",
    "    rf_maccs_model = pickle.load(f)"
   ]
  },
  {
   "cell_type": "code",
   "execution_count": 5,
   "id": "05424905",
   "metadata": {},
   "outputs": [],
   "source": [
    "with open('rf_rdkit_model.pkl', 'rb') as f:\n",
    "    rf_rdkit_model = pickle.load(f)"
   ]
  },
  {
   "cell_type": "code",
   "execution_count": 6,
   "id": "0c85d6d4",
   "metadata": {},
   "outputs": [],
   "source": [
    "with open('svm_maccs_model.pkl', 'rb') as f:\n",
    "    svm_maccs_model = pickle.load(f)"
   ]
  },
  {
   "cell_type": "code",
   "execution_count": 7,
   "id": "d4d1acec",
   "metadata": {},
   "outputs": [],
   "source": [
    "with open('xgb_maccs_model.pkl', 'rb') as f:\n",
    "    xgb_maccs_model = pickle.load(f)"
   ]
  },
  {
   "cell_type": "markdown",
   "id": "d5ae00ae",
   "metadata": {},
   "source": [
    "# Load data"
   ]
  },
  {
   "cell_type": "code",
   "execution_count": 30,
   "id": "069677be",
   "metadata": {},
   "outputs": [],
   "source": [
    "data = pd.read_csv('../data/GABAA.csv',encoding='gb18030')\n",
    "plant = pd.read_csv('../data/AD_results_final.csv',encoding='gb18030')"
   ]
  },
  {
   "cell_type": "code",
   "execution_count": 31,
   "id": "7e12395b",
   "metadata": {},
   "outputs": [
    {
     "data": {
      "text/html": [
       "<div>\n",
       "<style scoped>\n",
       "    .dataframe tbody tr th:only-of-type {\n",
       "        vertical-align: middle;\n",
       "    }\n",
       "\n",
       "    .dataframe tbody tr th {\n",
       "        vertical-align: top;\n",
       "    }\n",
       "\n",
       "    .dataframe thead th {\n",
       "        text-align: right;\n",
       "    }\n",
       "</style>\n",
       "<table border=\"1\" class=\"dataframe\">\n",
       "  <thead>\n",
       "    <tr style=\"text-align: right;\">\n",
       "      <th></th>\n",
       "      <th>smiles</th>\n",
       "      <th>InDomain</th>\n",
       "      <th>Volatile_compounds</th>\n",
       "    </tr>\n",
       "  </thead>\n",
       "  <tbody>\n",
       "    <tr>\n",
       "      <th>0</th>\n",
       "      <td>CC(C)CCCC(C)CCCC(C)CCCC(=O)C</td>\n",
       "      <td>False</td>\n",
       "      <td>6,10,14-Trimethylpentadecan-2-one</td>\n",
       "    </tr>\n",
       "    <tr>\n",
       "      <th>1</th>\n",
       "      <td>CC(=O)CC(C)(C)O</td>\n",
       "      <td>False</td>\n",
       "      <td>Diacetone alcohol</td>\n",
       "    </tr>\n",
       "    <tr>\n",
       "      <th>2</th>\n",
       "      <td>CCCCCO</td>\n",
       "      <td>True</td>\n",
       "      <td>1-Pentanol</td>\n",
       "    </tr>\n",
       "    <tr>\n",
       "      <th>3</th>\n",
       "      <td>CCCCCCCCCCCCCCCCCCCCCCCC</td>\n",
       "      <td>False</td>\n",
       "      <td>Tetracosane</td>\n",
       "    </tr>\n",
       "    <tr>\n",
       "      <th>4</th>\n",
       "      <td>CCCCCCCCCCCCCCCCCCCCCCC</td>\n",
       "      <td>False</td>\n",
       "      <td>Tricosane</td>\n",
       "    </tr>\n",
       "    <tr>\n",
       "      <th>...</th>\n",
       "      <td>...</td>\n",
       "      <td>...</td>\n",
       "      <td>...</td>\n",
       "    </tr>\n",
       "    <tr>\n",
       "      <th>2391</th>\n",
       "      <td>CC1=C2CC(C(CC2OC1=O)(C)C=C)C(=C)C(=O)OC</td>\n",
       "      <td>False</td>\n",
       "      <td>Deoxysericealactone</td>\n",
       "    </tr>\n",
       "    <tr>\n",
       "      <th>2392</th>\n",
       "      <td>CC1=CCCC(C1=CCC(=O)C)(C)C</td>\n",
       "      <td>False</td>\n",
       "      <td>2-Butanone, 4-(2,6,6-trimethyl-2-cyclohexen-1-...</td>\n",
       "    </tr>\n",
       "    <tr>\n",
       "      <th>2393</th>\n",
       "      <td>CC1(C2CC=C(C1C2)CCO)C</td>\n",
       "      <td>True</td>\n",
       "      <td>Nopol</td>\n",
       "    </tr>\n",
       "    <tr>\n",
       "      <th>2394</th>\n",
       "      <td>CC1C2CC(C1=O)CC2(C)C</td>\n",
       "      <td>True</td>\n",
       "      <td>3,5,5-Trimethylbicyclo[2.2.1]heptan-2-one</td>\n",
       "    </tr>\n",
       "    <tr>\n",
       "      <th>2395</th>\n",
       "      <td>CC(=O)C1CC(C1(C)C)CC(=O)O</td>\n",
       "      <td>True</td>\n",
       "      <td>cis-Pinonic acid</td>\n",
       "    </tr>\n",
       "  </tbody>\n",
       "</table>\n",
       "<p>2396 rows × 3 columns</p>\n",
       "</div>"
      ],
      "text/plain": [
       "                                       smiles  InDomain  \\\n",
       "0                CC(C)CCCC(C)CCCC(C)CCCC(=O)C     False   \n",
       "1                             CC(=O)CC(C)(C)O     False   \n",
       "2                                      CCCCCO      True   \n",
       "3                    CCCCCCCCCCCCCCCCCCCCCCCC     False   \n",
       "4                     CCCCCCCCCCCCCCCCCCCCCCC     False   \n",
       "...                                       ...       ...   \n",
       "2391  CC1=C2CC(C(CC2OC1=O)(C)C=C)C(=C)C(=O)OC     False   \n",
       "2392                CC1=CCCC(C1=CCC(=O)C)(C)C     False   \n",
       "2393                    CC1(C2CC=C(C1C2)CCO)C      True   \n",
       "2394                     CC1C2CC(C1=O)CC2(C)C      True   \n",
       "2395                CC(=O)C1CC(C1(C)C)CC(=O)O      True   \n",
       "\n",
       "                                     Volatile_compounds  \n",
       "0                     6,10,14-Trimethylpentadecan-2-one  \n",
       "1                                     Diacetone alcohol  \n",
       "2                                            1-Pentanol  \n",
       "3                                           Tetracosane  \n",
       "4                                             Tricosane  \n",
       "...                                                 ...  \n",
       "2391                               Deoxysericealactone   \n",
       "2392  2-Butanone, 4-(2,6,6-trimethyl-2-cyclohexen-1-...  \n",
       "2393                                             Nopol   \n",
       "2394          3,5,5-Trimethylbicyclo[2.2.1]heptan-2-one  \n",
       "2395                                   cis-Pinonic acid  \n",
       "\n",
       "[2396 rows x 3 columns]"
      ]
     },
     "execution_count": 31,
     "metadata": {},
     "output_type": "execute_result"
    }
   ],
   "source": [
    "plant"
   ]
  },
  {
   "cell_type": "markdown",
   "id": "fd9ea61e",
   "metadata": {},
   "source": [
    "# Feature extraction & Data splitting"
   ]
  },
  {
   "cell_type": "code",
   "execution_count": 32,
   "id": "b577fb21",
   "metadata": {},
   "outputs": [],
   "source": [
    "def featurizer(featname):\n",
    "    \n",
    "    if featname ==\"MACCS\":\n",
    "        featurizer_maccs = dc.feat.MACCSKeysFingerprint()\n",
    "        data_features_maccs = featurizer_maccs.featurize(data['smiles'])\n",
    "        plant_features_maccs = featurizer_maccs.featurize(plant['smiles'])\n",
    "        # Initialize the VarianceThreshold object\n",
    "        vt_maccs = VarianceThreshold(threshold = (.98 * (1 - .98)))\n",
    "\n",
    "        # Feature selection\n",
    "        data_maccs_new = vt_maccs.fit_transform(data_features_maccs)\n",
    "        data_maccs_mask = vt_maccs.get_support(indices=True)\n",
    "        plant_maccs_features = plant_features_maccs[:, data_maccs_mask]\n",
    "        \n",
    "        dataset = dc.data.NumpyDataset(data_maccs_new,data['class'])\n",
    "        \n",
    "        splitter = dc.splits.RandomSplitter()\n",
    "        train_dataset, test_dataset = splitter.train_test_split(dataset=dataset,frac_train=0.8)\n",
    "        \n",
    "        data_train = train_dataset.X\n",
    "        data_test = plant_maccs_features\n",
    "        label_train = train_dataset.y\n",
    "        \n",
    "        \n",
    "        \n",
    "    elif featname ==\"RDkit\":\n",
    "        featurizer_rdkit = dc.feat.RDKitDescriptors()\n",
    "        data_features_rdkit = featurizer_rdkit.featurize(data['smiles'])\n",
    "        plant_features_rdkit = featurizer_rdkit.featurize(plant['smiles'])\n",
    "        \n",
    "        # Initialize the VarianceThreshold object\n",
    "        vt_rdkit = VarianceThreshold(threshold = (.98 * (1 - .98)))\n",
    "\n",
    "        # Feature selection\n",
    "        data_rdkit_new = vt_rdkit.fit_transform(data_features_rdkit)\n",
    "        data_rdkit_mask = vt_rdkit.get_support(indices=True)\n",
    "        plant_rdkit_features = plant_features_rdkit[:, data_rdkit_mask]\n",
    "        \n",
    "        dataset = dc.data.NumpyDataset(data_rdkit_new,data['class'])\n",
    "        \n",
    "        splitter = dc.splits.RandomSplitter()\n",
    "        train_dataset, test_dataset = splitter.train_test_split(dataset=dataset,frac_train=0.8)\n",
    "        \n",
    "        data_train = train_dataset.X\n",
    "        data_test = plant_rdkit_features\n",
    "        label_train = train_dataset.y\n",
    "     \n",
    "    else:\n",
    "        pass\n",
    "    return  data_train, data_test, label_train"
   ]
  },
  {
   "cell_type": "markdown",
   "id": "42c5d2a5",
   "metadata": {},
   "source": [
    "# Load models"
   ]
  },
  {
   "cell_type": "code",
   "execution_count": 33,
   "id": "6bc975c8",
   "metadata": {},
   "outputs": [],
   "source": [
    "def SelectModel(modelname):\n",
    "\n",
    "    if modelname == \"rf_maccs\":\n",
    "        model = rf_maccs_model\n",
    "\n",
    "    elif modelname == \"rf_rdkit\":\n",
    "        model = rf_rdkit_model\n",
    "        \n",
    "    elif modelname == \"svm_maccs\":\n",
    "        model = svm_maccs_model\n",
    "\n",
    "    elif modelname == \"xgb_maccs\":\n",
    "        model = xgb_maccs_model\n",
    "\n",
    "    else:\n",
    "        pass\n",
    "    \n",
    "    return model"
   ]
  },
  {
   "cell_type": "code",
   "execution_count": 34,
   "id": "bd7980d0",
   "metadata": {},
   "outputs": [],
   "source": [
    "def get_oof(clf,n_folds,X_train,y_train,X_test):\n",
    "    ntrain = X_train.shape[0]\n",
    "    ntest =  X_test.shape[0]\n",
    "    classnum = len(np.unique(y_train))\n",
    "    kf = KFold(n_splits=n_folds,random_state=42,shuffle=True)\n",
    "    oof_train = np.zeros((ntrain,classnum))\n",
    "    oof_test = np.zeros((ntest,classnum))\n",
    "\n",
    "    for i,(train_index, test_index) in enumerate(kf.split(X_train)):\n",
    "        kf_X_train = X_train[train_index] # data\n",
    "        kf_y_train = y_train[train_index] # label\n",
    "\n",
    "        kf_X_test = X_train[test_index]  # Verification set of k-fold\n",
    "\n",
    "        #clf.fit(kf_X_train, kf_y_train)\n",
    "        oof_train[test_index] = clf.predict_proba(kf_X_test)\n",
    "\n",
    "        oof_test += clf.predict_proba(X_test)\n",
    "    oof_test = oof_test/float(n_folds)\n",
    "    return oof_train, oof_test"
   ]
  },
  {
   "cell_type": "code",
   "execution_count": null,
   "id": "1d3ea1d4",
   "metadata": {},
   "outputs": [],
   "source": []
  },
  {
   "cell_type": "code",
   "execution_count": 35,
   "id": "9d2d8622",
   "metadata": {},
   "outputs": [],
   "source": [
    "# At the first level, the features are reconstructed as the training set for the second level\n",
    "modelist = ['rf_maccs','rf_rdkit','svm_maccs','xgb_maccs']\n",
    "newfeature_list = []\n",
    "newtestdata_list = []\n",
    "\n",
    "for modelname in modelist:\n",
    "    clf_first = SelectModel(modelname)\n",
    "    \n",
    "    if modelname == 'rf_maccs':\n",
    "        data_train, data_test, label_train = featurizer('MACCS')\n",
    "    elif modelname == 'rf_rdkit':\n",
    "        data_train, data_test, label_train = featurizer('RDkit')\n",
    "    elif modelname == 'svm_maccs':\n",
    "        data_train, data_test, label_train = featurizer('MACCS')\n",
    "    elif modelname == 'xgb_maccs':\n",
    "        data_train, data_test, label_train = featurizer('MACCS')\n",
    "    else:\n",
    "        pass\n",
    "        \n",
    "    \n",
    "    oof_train_ ,oof_test_= get_oof(clf=clf_first,n_folds=5,X_train=data_train,y_train=label_train,X_test=data_test)\n",
    "    newfeature_list.append(oof_train_)\n",
    "    newtestdata_list.append(oof_test_)"
   ]
  },
  {
   "cell_type": "code",
   "execution_count": 36,
   "id": "564deb00",
   "metadata": {},
   "outputs": [
    {
     "data": {
      "text/html": [
       "<style>#sk-container-id-2 {color: black;background-color: white;}#sk-container-id-2 pre{padding: 0;}#sk-container-id-2 div.sk-toggleable {background-color: white;}#sk-container-id-2 label.sk-toggleable__label {cursor: pointer;display: block;width: 100%;margin-bottom: 0;padding: 0.3em;box-sizing: border-box;text-align: center;}#sk-container-id-2 label.sk-toggleable__label-arrow:before {content: \"▸\";float: left;margin-right: 0.25em;color: #696969;}#sk-container-id-2 label.sk-toggleable__label-arrow:hover:before {color: black;}#sk-container-id-2 div.sk-estimator:hover label.sk-toggleable__label-arrow:before {color: black;}#sk-container-id-2 div.sk-toggleable__content {max-height: 0;max-width: 0;overflow: hidden;text-align: left;background-color: #f0f8ff;}#sk-container-id-2 div.sk-toggleable__content pre {margin: 0.2em;color: black;border-radius: 0.25em;background-color: #f0f8ff;}#sk-container-id-2 input.sk-toggleable__control:checked~div.sk-toggleable__content {max-height: 200px;max-width: 100%;overflow: auto;}#sk-container-id-2 input.sk-toggleable__control:checked~label.sk-toggleable__label-arrow:before {content: \"▾\";}#sk-container-id-2 div.sk-estimator input.sk-toggleable__control:checked~label.sk-toggleable__label {background-color: #d4ebff;}#sk-container-id-2 div.sk-label input.sk-toggleable__control:checked~label.sk-toggleable__label {background-color: #d4ebff;}#sk-container-id-2 input.sk-hidden--visually {border: 0;clip: rect(1px 1px 1px 1px);clip: rect(1px, 1px, 1px, 1px);height: 1px;margin: -1px;overflow: hidden;padding: 0;position: absolute;width: 1px;}#sk-container-id-2 div.sk-estimator {font-family: monospace;background-color: #f0f8ff;border: 1px dotted black;border-radius: 0.25em;box-sizing: border-box;margin-bottom: 0.5em;}#sk-container-id-2 div.sk-estimator:hover {background-color: #d4ebff;}#sk-container-id-2 div.sk-parallel-item::after {content: \"\";width: 100%;border-bottom: 1px solid gray;flex-grow: 1;}#sk-container-id-2 div.sk-label:hover label.sk-toggleable__label {background-color: #d4ebff;}#sk-container-id-2 div.sk-serial::before {content: \"\";position: absolute;border-left: 1px solid gray;box-sizing: border-box;top: 0;bottom: 0;left: 50%;z-index: 0;}#sk-container-id-2 div.sk-serial {display: flex;flex-direction: column;align-items: center;background-color: white;padding-right: 0.2em;padding-left: 0.2em;position: relative;}#sk-container-id-2 div.sk-item {position: relative;z-index: 1;}#sk-container-id-2 div.sk-parallel {display: flex;align-items: stretch;justify-content: center;background-color: white;position: relative;}#sk-container-id-2 div.sk-item::before, #sk-container-id-2 div.sk-parallel-item::before {content: \"\";position: absolute;border-left: 1px solid gray;box-sizing: border-box;top: 0;bottom: 0;left: 50%;z-index: -1;}#sk-container-id-2 div.sk-parallel-item {display: flex;flex-direction: column;z-index: 1;position: relative;background-color: white;}#sk-container-id-2 div.sk-parallel-item:first-child::after {align-self: flex-end;width: 50%;}#sk-container-id-2 div.sk-parallel-item:last-child::after {align-self: flex-start;width: 50%;}#sk-container-id-2 div.sk-parallel-item:only-child::after {width: 0;}#sk-container-id-2 div.sk-dashed-wrapped {border: 1px dashed gray;margin: 0 0.4em 0.5em 0.4em;box-sizing: border-box;padding-bottom: 0.4em;background-color: white;}#sk-container-id-2 div.sk-label label {font-family: monospace;font-weight: bold;display: inline-block;line-height: 1.2em;}#sk-container-id-2 div.sk-label-container {text-align: center;}#sk-container-id-2 div.sk-container {/* jupyter's `normalize.less` sets `[hidden] { display: none; }` but bootstrap.min.css set `[hidden] { display: none !important; }` so we also need the `!important` here to be able to override the default hidden behavior on the sphinx rendered scikit-learn.org. See: https://github.com/scikit-learn/scikit-learn/issues/21755 */display: inline-block !important;position: relative;}#sk-container-id-2 div.sk-text-repr-fallback {display: none;}</style><div id=\"sk-container-id-2\" class=\"sk-top-container\"><div class=\"sk-text-repr-fallback\"><pre>RandomForestClassifier()</pre><b>In a Jupyter environment, please rerun this cell to show the HTML representation or trust the notebook. <br />On GitHub, the HTML representation is unable to render, please try loading this page with nbviewer.org.</b></div><div class=\"sk-container\" hidden><div class=\"sk-item\"><div class=\"sk-estimator sk-toggleable\"><input class=\"sk-toggleable__control sk-hidden--visually\" id=\"sk-estimator-id-2\" type=\"checkbox\" checked><label for=\"sk-estimator-id-2\" class=\"sk-toggleable__label sk-toggleable__label-arrow\">RandomForestClassifier</label><div class=\"sk-toggleable__content\"><pre>RandomForestClassifier()</pre></div></div></div></div></div>"
      ],
      "text/plain": [
       "RandomForestClassifier()"
      ]
     },
     "execution_count": 36,
     "metadata": {},
     "output_type": "execute_result"
    }
   ],
   "source": [
    "# Feature combination\n",
    "newfeature = reduce(lambda x,y:np.concatenate((x,y),axis=1),newfeature_list)    \n",
    "newtestdata = reduce(lambda x,y:np.concatenate((x,y),axis=1),newtestdata_list)\n",
    "\n",
    "# Second level, use the output of the previous level as the training set\n",
    "clf_second1 = RandomForestClassifier()\n",
    "clf_second1.fit(newfeature, label_train)"
   ]
  },
  {
   "cell_type": "code",
   "execution_count": 37,
   "id": "d6f29184",
   "metadata": {},
   "outputs": [
    {
     "data": {
      "text/plain": [
       "(390, 8)"
      ]
     },
     "execution_count": 37,
     "metadata": {},
     "output_type": "execute_result"
    }
   ],
   "source": [
    "newfeature.shape"
   ]
  },
  {
   "cell_type": "code",
   "execution_count": 38,
   "id": "42d0ec0b",
   "metadata": {},
   "outputs": [
    {
     "data": {
      "text/plain": [
       "(2396, 8)"
      ]
     },
     "execution_count": 38,
     "metadata": {},
     "output_type": "execute_result"
    }
   ],
   "source": [
    "newtestdata.shape"
   ]
  },
  {
   "cell_type": "code",
   "execution_count": 39,
   "id": "b8d8bb9a",
   "metadata": {},
   "outputs": [],
   "source": [
    "pred_proba = clf_second1.predict_proba(newtestdata)"
   ]
  },
  {
   "cell_type": "code",
   "execution_count": 40,
   "id": "08ff8e3a",
   "metadata": {},
   "outputs": [],
   "source": [
    "test_pred_list = []\n",
    "for test_score in pred_proba:\n",
    "    test_score = test_score[1]\n",
    "    test_pred_list.append(test_score)"
   ]
  },
  {
   "cell_type": "code",
   "execution_count": 41,
   "id": "45e5dbe0",
   "metadata": {},
   "outputs": [],
   "source": [
    "test_pred_array = np.array(test_pred_list)"
   ]
  },
  {
   "cell_type": "code",
   "execution_count": 42,
   "id": "a2ff9983",
   "metadata": {},
   "outputs": [
    {
     "data": {
      "text/plain": [
       "array([0.93, 0.93, 0.93, ..., 0.99, 1.  , 0.98])"
      ]
     },
     "execution_count": 42,
     "metadata": {},
     "output_type": "execute_result"
    }
   ],
   "source": [
    "test_pred_array"
   ]
  },
  {
   "cell_type": "code",
   "execution_count": 43,
   "id": "a6fd93a9",
   "metadata": {},
   "outputs": [],
   "source": [
    "# create DataFrame\n",
    "df = pd.DataFrame({\n",
    "    'name':plant['Volatile_compounds'],\n",
    "    'smiles':plant['smiles'],\n",
    "    'final_pred':test_pred_array\n",
    "})"
   ]
  },
  {
   "cell_type": "code",
   "execution_count": 44,
   "id": "b9958d5a",
   "metadata": {
    "scrolled": true
   },
   "outputs": [
    {
     "data": {
      "text/html": [
       "<div>\n",
       "<style scoped>\n",
       "    .dataframe tbody tr th:only-of-type {\n",
       "        vertical-align: middle;\n",
       "    }\n",
       "\n",
       "    .dataframe tbody tr th {\n",
       "        vertical-align: top;\n",
       "    }\n",
       "\n",
       "    .dataframe thead th {\n",
       "        text-align: right;\n",
       "    }\n",
       "</style>\n",
       "<table border=\"1\" class=\"dataframe\">\n",
       "  <thead>\n",
       "    <tr style=\"text-align: right;\">\n",
       "      <th></th>\n",
       "      <th>name</th>\n",
       "      <th>smiles</th>\n",
       "      <th>final_pred</th>\n",
       "    </tr>\n",
       "  </thead>\n",
       "  <tbody>\n",
       "    <tr>\n",
       "      <th>0</th>\n",
       "      <td>6,10,14-Trimethylpentadecan-2-one</td>\n",
       "      <td>CC(C)CCCC(C)CCCC(C)CCCC(=O)C</td>\n",
       "      <td>0.93</td>\n",
       "    </tr>\n",
       "    <tr>\n",
       "      <th>1</th>\n",
       "      <td>Diacetone alcohol</td>\n",
       "      <td>CC(=O)CC(C)(C)O</td>\n",
       "      <td>0.93</td>\n",
       "    </tr>\n",
       "    <tr>\n",
       "      <th>2</th>\n",
       "      <td>1-Pentanol</td>\n",
       "      <td>CCCCCO</td>\n",
       "      <td>0.93</td>\n",
       "    </tr>\n",
       "    <tr>\n",
       "      <th>3</th>\n",
       "      <td>Tetracosane</td>\n",
       "      <td>CCCCCCCCCCCCCCCCCCCCCCCC</td>\n",
       "      <td>0.90</td>\n",
       "    </tr>\n",
       "    <tr>\n",
       "      <th>4</th>\n",
       "      <td>Tricosane</td>\n",
       "      <td>CCCCCCCCCCCCCCCCCCCCCCC</td>\n",
       "      <td>0.90</td>\n",
       "    </tr>\n",
       "    <tr>\n",
       "      <th>...</th>\n",
       "      <td>...</td>\n",
       "      <td>...</td>\n",
       "      <td>...</td>\n",
       "    </tr>\n",
       "    <tr>\n",
       "      <th>2391</th>\n",
       "      <td>Deoxysericealactone</td>\n",
       "      <td>CC1=C2CC(C(CC2OC1=O)(C)C=C)C(=C)C(=O)OC</td>\n",
       "      <td>0.85</td>\n",
       "    </tr>\n",
       "    <tr>\n",
       "      <th>2392</th>\n",
       "      <td>2-Butanone, 4-(2,6,6-trimethyl-2-cyclohexen-1-...</td>\n",
       "      <td>CC1=CCCC(C1=CCC(=O)C)(C)C</td>\n",
       "      <td>0.98</td>\n",
       "    </tr>\n",
       "    <tr>\n",
       "      <th>2393</th>\n",
       "      <td>Nopol</td>\n",
       "      <td>CC1(C2CC=C(C1C2)CCO)C</td>\n",
       "      <td>0.99</td>\n",
       "    </tr>\n",
       "    <tr>\n",
       "      <th>2394</th>\n",
       "      <td>3,5,5-Trimethylbicyclo[2.2.1]heptan-2-one</td>\n",
       "      <td>CC1C2CC(C1=O)CC2(C)C</td>\n",
       "      <td>1.00</td>\n",
       "    </tr>\n",
       "    <tr>\n",
       "      <th>2395</th>\n",
       "      <td>cis-Pinonic acid</td>\n",
       "      <td>CC(=O)C1CC(C1(C)C)CC(=O)O</td>\n",
       "      <td>0.98</td>\n",
       "    </tr>\n",
       "  </tbody>\n",
       "</table>\n",
       "<p>2396 rows × 3 columns</p>\n",
       "</div>"
      ],
      "text/plain": [
       "                                                   name  \\\n",
       "0                     6,10,14-Trimethylpentadecan-2-one   \n",
       "1                                     Diacetone alcohol   \n",
       "2                                            1-Pentanol   \n",
       "3                                           Tetracosane   \n",
       "4                                             Tricosane   \n",
       "...                                                 ...   \n",
       "2391                               Deoxysericealactone    \n",
       "2392  2-Butanone, 4-(2,6,6-trimethyl-2-cyclohexen-1-...   \n",
       "2393                                             Nopol    \n",
       "2394          3,5,5-Trimethylbicyclo[2.2.1]heptan-2-one   \n",
       "2395                                   cis-Pinonic acid   \n",
       "\n",
       "                                       smiles  final_pred  \n",
       "0                CC(C)CCCC(C)CCCC(C)CCCC(=O)C        0.93  \n",
       "1                             CC(=O)CC(C)(C)O        0.93  \n",
       "2                                      CCCCCO        0.93  \n",
       "3                    CCCCCCCCCCCCCCCCCCCCCCCC        0.90  \n",
       "4                     CCCCCCCCCCCCCCCCCCCCCCC        0.90  \n",
       "...                                       ...         ...  \n",
       "2391  CC1=C2CC(C(CC2OC1=O)(C)C=C)C(=C)C(=O)OC        0.85  \n",
       "2392                CC1=CCCC(C1=CCC(=O)C)(C)C        0.98  \n",
       "2393                    CC1(C2CC=C(C1C2)CCO)C        0.99  \n",
       "2394                     CC1C2CC(C1=O)CC2(C)C        1.00  \n",
       "2395                CC(=O)C1CC(C1(C)C)CC(=O)O        0.98  \n",
       "\n",
       "[2396 rows x 3 columns]"
      ]
     },
     "execution_count": 44,
     "metadata": {},
     "output_type": "execute_result"
    }
   ],
   "source": [
    "df"
   ]
  },
  {
   "cell_type": "code",
   "execution_count": 45,
   "id": "02bda718",
   "metadata": {},
   "outputs": [],
   "source": [
    "df.to_csv('iplant_final(0.6).csv')"
   ]
  },
  {
   "cell_type": "code",
   "execution_count": null,
   "id": "7b7bf6ef",
   "metadata": {},
   "outputs": [],
   "source": []
  }
 ],
 "metadata": {
  "kernelspec": {
   "display_name": "GABA",
   "language": "python",
   "name": "gaba"
  },
  "language_info": {
   "codemirror_mode": {
    "name": "ipython",
    "version": 3
   },
   "file_extension": ".py",
   "mimetype": "text/x-python",
   "name": "python",
   "nbconvert_exporter": "python",
   "pygments_lexer": "ipython3",
   "version": "3.8.16"
  }
 },
 "nbformat": 4,
 "nbformat_minor": 5
}
